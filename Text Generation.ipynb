{
 "cells": [
  {
   "cell_type": "code",
   "execution_count": 1,
   "metadata": {},
   "outputs": [],
   "source": [
    "import numpy as np"
   ]
  },
  {
   "cell_type": "markdown",
   "metadata": {},
   "source": [
    "### What is Sampling "
   ]
  },
  {
   "cell_type": "code",
   "execution_count": 2,
   "metadata": {
    "scrolled": true
   },
   "outputs": [
    {
     "name": "stdout",
     "output_type": "stream",
     "text": [
      "banana\n",
      "banana\n",
      "banana\n",
      "banana\n",
      "banana\n",
      "banana\n",
      "mango\n",
      "banana\n",
      "banana\n",
      "banana\n"
     ]
    }
   ],
   "source": [
    "fruits = [\"apple\", \"mango\",\"banana\",\"litch\"]\n",
    "prob = [0.1,0.2,0.6,0.1]\n",
    "\n",
    "for i in range(10):\n",
    "    print(np.random.choice(fruits, p=prob))"
   ]
  },
  {
   "cell_type": "code",
   "execution_count": null,
   "metadata": {},
   "outputs": [],
   "source": []
  },
  {
   "cell_type": "code",
   "execution_count": null,
   "metadata": {},
   "outputs": [],
   "source": []
  },
  {
   "cell_type": "code",
   "execution_count": 3,
   "metadata": {},
   "outputs": [],
   "source": [
    "class TextGeneration():\n",
    "    \n",
    "    def load_file(self,file):\n",
    "        with open(file, encoding='utf8') as f:\n",
    "            return f.read().lower()\n",
    "    \n",
    "    \n",
    "    \n",
    "    \n",
    "    \n",
    "    def __init__(self, file, k=4):\n",
    "        self.model = {}\n",
    "        self.k = k\n",
    "        self.data = self.load_file(file)\n",
    "    \n",
    "    \n",
    "    \n",
    "    \n",
    "    \n",
    "    def getTransition(self, data):\n",
    "        data, k = self.data, self.k\n",
    "        \n",
    "        T = {}\n",
    "        for i in range(len(data)-k):\n",
    "            X = data[i:i+k]\n",
    "            y = data[i+k]\n",
    "\n",
    "\n",
    "            if T.get(X) is None:\n",
    "                T[X] = {}\n",
    "                T[X][y] =1\n",
    "\n",
    "            elif T[X].get(y) is None:\n",
    "                    T[X][y] = 1\n",
    "            else:\n",
    "                T[X][y] +=1\n",
    "\n",
    "        return T\n",
    "    \n",
    "    \n",
    "    \n",
    "    \n",
    "    def convertTableintoProbab(self,T):\n",
    "        for key in T.keys():\n",
    "            sum_ = float(sum(list(T[key].values())))\n",
    "\n",
    "            for k in T[key].keys():\n",
    "                T[key][k] = T[key][k]/sum_\n",
    "\n",
    "        return T\n",
    "    \n",
    "    \n",
    "    \n",
    "    \n",
    "    def train(self):\n",
    "        data, k = self.data, self.k\n",
    "        \n",
    "        T = self.getTransition(data)\n",
    "        T = self.convertTableintoProbab(T)\n",
    "\n",
    "        self.model = T\n",
    "    \n",
    "\n",
    "    \n",
    "    \n",
    "    def sample_next(self,key, T):\n",
    "\n",
    "        model, k = self.model, self.k\n",
    "        \n",
    "        \n",
    "        if model.get(key) is  None:\n",
    "            return \" \"\n",
    "\n",
    "        k = list(model[key].keys())\n",
    "        v = list(model[key].values())\n",
    "\n",
    "        return np.random.choice(a= k, p = v)\n",
    "    \n",
    "    \n",
    "    \n",
    "    \n",
    "    def generateText(self, start_context, maxLimit=2000):\n",
    "        model, k = self.model, self.k\n",
    "        \n",
    "        np.random.seed(11)\n",
    "        sentence = start_context\n",
    "\n",
    "        for i in range(maxLimit):\n",
    "            pred = self.sample_next(key= sentence[-k:],T= model)\n",
    "            sentence += pred\n",
    "\n",
    "        return sentence\n",
    "    \n",
    "    \n",
    "    \n",
    "    def save(self,filename, result):\n",
    "        try:\n",
    "            with open(filename, 'w') as f:\n",
    "                f.write(result)\n",
    "                f.close()\n",
    "            print(\"file saved successfully...\")\n",
    "        except:\n",
    "            print(\"An error occured while saving file...\")"
   ]
  },
  {
   "cell_type": "code",
   "execution_count": 4,
   "metadata": {},
   "outputs": [],
   "source": [
    "model = TextGeneration(\"Apna Time Aayega.txt\", k=4)"
   ]
  },
  {
   "cell_type": "code",
   "execution_count": 5,
   "metadata": {},
   "outputs": [],
   "source": [
    "model.train()"
   ]
  },
  {
   "cell_type": "code",
   "execution_count": 6,
   "metadata": {},
   "outputs": [],
   "source": [
    "sentence = model.generateText(\"apna\")"
   ]
  },
  {
   "cell_type": "code",
   "execution_count": 7,
   "metadata": {},
   "outputs": [
    {
     "name": "stdout",
     "output_type": "stream",
     "text": [
      "apna time aaya hath nahi\n",
      "utna hi to aaya hai seene se\n",
      "matlab bana lala\n",
      "mere bhai tu\n",
      "utna time aaya hai\n",
      "phir bhi satayega\n",
      "zinda mera khud ki hai, amaana lala\n",
      "tujhe na mila paseene se jeenenge\n",
      "sab kuchh mil payega\n",
      "jitni rehmat mein\n",
      "har raakh se\n",
      "tu nanga hi to khauf nahin hai jaisa koyi hai seene mein nahi hai\n",
      "kyon ki ab laalach nai hai\n",
      "kya ghanta lekar jaayega\n",
      "kya tu dafnayega\n",
      "apna time aayega\n",
      "kya tu ghanta lekar..\n",
      " \n",
      "kyon\n",
      "kyon ka hai\n",
      "kya ghanta lekar jaayega\n",
      "apna time aayega\n",
      "zinda mera khwaab hai chheene mein\n",
      " \n",
      "kyon ki hai jaisa shaan pighlayega\n",
      "jitni taakat ne hi barkat ki mehnat ki, amaana ab talaash mein\n",
      "parwane ki hai\n",
      "jo darr ko bhi ladka sehmat mein nahi\n",
      "utna hi to khaayega\n",
      " \n",
      "yeh shabdon ka hai\n",
      "zaroorat ki\n",
      "himaakat di hairat ki, ibaadat ki hai\n",
      "kya ghanta lekar jaayega\n",
      "apna time aayega\n",
      " \n",
      "tu nanga hi barkat ki\n",
      "adalat yahaan par\n",
      "yahaan marzi ki\n",
      "jeetne ki\n",
      "jeetne ki mehnat se main\n",
      "jitna hi to aayega\n",
      " \n",
      "ab hai\n",
      "kya tu dafnayega\n",
      "mere jaisa mera khud ki hai\n",
      "kya ghanta lekar jaayega\n",
      "kya tu ghanta lekar..\n",
      " \n",
      "kissi ka hai\n",
      "kya ghanta lekar..\n",
      " \n",
      "kissi ka jwala\n",
      "meri bediyan parwaaz dekh par aaya hai\n",
      "kya ghanta lekar jaayega\n",
      "aayega\n",
      "apna time aayega\n",
      "aayega\n",
      "apna time aaya hath nai hai\n",
      "zaroorat ki\n",
      "mohobbat ki, aafat ki hai jaisa shaanat ki\n",
      "aur jurrat yahaan marzi ki\n",
      "adalat yeh shabdon ki ab aadat ki apna time aaya khwaab\n",
      "ab kaise tu ghanta lekar jaayega\n",
      "uth ja ab jeene mein hai\n",
      "phir bhi sar uthayega\n",
      " \n",
      "taakat ki\n",
      "himaakat ki mehnat se main\n",
      "jitna time aayega\n",
      "apna time aayega\n",
      "apna time aaya hai\n",
      " \n",
      "iss hard’ch nai hai\n",
      "kyon\n",
      "kyon\n",
      "kyon\n",
      "kyon ki mehnat se main\n",
      "jitna time aayega\n",
      "apna toone boya hai\n",
      "kyon ka jwala\n",
      "mere jaisa shaan pighlayega\n",
      "zinda mera khud ki ab talaash mein\n",
      "parwaaz dekh par\n",
      "yahaan pighlayega\n",
      "apna time aayega\n",
      " \n",
      "ab kuchh mil payega\n",
      "aisa mera khwaab\n",
      "ab kuchh mila paseene mein hai\n",
      "shohrat ki ab aadat ki\n",
      "adalat yahaana ab aadat ki\n",
      "mohobbat ki apna time aayega\n",
      "zinda mera khwaab hausle se main\n",
      "jitni taakat ne hi tha sar uthayega\n",
      "meri bediyan pighlayega\n",
      " \n",
      "tu nanga hi to aaya hai\n",
      "phir bhi lad\n"
     ]
    }
   ],
   "source": [
    "print(sentence)"
   ]
  },
  {
   "cell_type": "code",
   "execution_count": 8,
   "metadata": {},
   "outputs": [
    {
     "name": "stdout",
     "output_type": "stream",
     "text": [
      "file saved successfully...\n"
     ]
    }
   ],
   "source": [
    "model.save(\"prediction.txt\", sentence)"
   ]
  },
  {
   "cell_type": "code",
   "execution_count": null,
   "metadata": {},
   "outputs": [],
   "source": []
  }
 ],
 "metadata": {
  "kernelspec": {
   "display_name": "Python 3",
   "language": "python",
   "name": "python3"
  },
  "language_info": {
   "codemirror_mode": {
    "name": "ipython",
    "version": 3
   },
   "file_extension": ".py",
   "mimetype": "text/x-python",
   "name": "python",
   "nbconvert_exporter": "python",
   "pygments_lexer": "ipython3",
   "version": "3.7.3"
  }
 },
 "nbformat": 4,
 "nbformat_minor": 2
}
